{
 "cells": [
  {
   "cell_type": "markdown",
   "metadata": {},
   "source": [
    "# Unit 2 & 3 Review\n",
    "- Lists\n",
    "- Functions\n",
    "- importing\n",
    "- return\n",
    "```python\n",
    "def my_funtion(param):\n",
    "    print(param)\n",
    "```\n",
    "```python\n",
    "import random\n",
    "random.randint(0, 10)\n",
    "```"
   ]
  },
  {
   "cell_type": "code",
   "execution_count": 3,
   "metadata": {},
   "outputs": [],
   "source": [
    "import random"
   ]
  },
  {
   "cell_type": "code",
   "execution_count": 18,
   "metadata": {},
   "outputs": [
    {
     "data": {
      "text/plain": [
       "7"
      ]
     },
     "execution_count": 18,
     "metadata": {},
     "output_type": "execute_result"
    }
   ],
   "source": [
    "random.randint(0, 10)"
   ]
  },
  {
   "cell_type": "markdown",
   "metadata": {},
   "source": [
    "Make a list of shopping items"
   ]
  },
  {
   "cell_type": "code",
   "execution_count": null,
   "metadata": {},
   "outputs": [],
   "source": []
  },
  {
   "cell_type": "markdown",
   "metadata": {},
   "source": [
    "Add 3 items to your shopping list"
   ]
  },
  {
   "cell_type": "code",
   "execution_count": null,
   "metadata": {},
   "outputs": [],
   "source": []
  },
  {
   "cell_type": "markdown",
   "metadata": {},
   "source": [
    "Use `random.shuffle` to shuffle the items in your list and print it out\n",
    "\n",
    "For example: `random.shuffle(my_shopping_list)`"
   ]
  },
  {
   "cell_type": "code",
   "execution_count": null,
   "metadata": {},
   "outputs": [],
   "source": []
  },
  {
   "cell_type": "markdown",
   "metadata": {},
   "source": [
    "insert 'water' between a, b\n",
    "```python\n",
    "stuff = [\"a\", \"b\", \"c\"]\n",
    "```"
   ]
  },
  {
   "cell_type": "code",
   "execution_count": null,
   "metadata": {},
   "outputs": [],
   "source": []
  },
  {
   "cell_type": "markdown",
   "metadata": {},
   "source": [
    "Remove \"third\" from the list\n",
    "```python\n",
    "bases = [\"first\", \"second\", \"third\", \"fourth\"]\n",
    "```"
   ]
  },
  {
   "cell_type": "code",
   "execution_count": null,
   "metadata": {},
   "outputs": [],
   "source": []
  },
  {
   "cell_type": "markdown",
   "metadata": {},
   "source": [
    "Print only 'a', and 'y' using slicing (indexing) of the list\n",
    "```python\n",
    "letters = [\"b\", \"a\", \"y\", \"a\"]\n",
    "```"
   ]
  },
  {
   "cell_type": "code",
   "execution_count": null,
   "metadata": {},
   "outputs": [],
   "source": []
  },
  {
   "cell_type": "markdown",
   "metadata": {},
   "source": [
    "Write a Python function to check whether a number is in a given range."
   ]
  },
  {
   "cell_type": "code",
   "execution_count": null,
   "metadata": {},
   "outputs": [],
   "source": []
  },
  {
   "cell_type": "markdown",
   "metadata": {},
   "source": [
    "Write a Python function to find the Max of two numbers"
   ]
  },
  {
   "cell_type": "code",
   "execution_count": 7,
   "metadata": {},
   "outputs": [
    {
     "name": "stdout",
     "output_type": "stream",
     "text": [
      "7\n"
     ]
    }
   ],
   "source": [
    "num_1 = 7\n",
    "num_2 = 5\n",
    "\n",
    "def my_function(num_1, num_2) :\n",
    "    if num_1 > num_2 :\n",
    "        return num_1\n",
    "    elif num_2 > num_1 :\n",
    "        return num_2\n",
    "print(my_function(num_1, num_2))"
   ]
  },
  {
   "cell_type": "markdown",
   "metadata": {},
   "source": [
    "Write a function that ask for a number to the user and clasifies it:\n",
    "```\n",
    "number <2 SMALL\n",
    "number <10 MEDIUM\n",
    "number rest LARGE\n",
    "```"
   ]
  },
  {
   "cell_type": "code",
   "execution_count": 24,
   "metadata": {},
   "outputs": [
    {
     "name": "stdout",
     "output_type": "stream",
     "text": [
      "Please type in a number:)10\n",
      "Thats one large number!\n"
     ]
    }
   ],
   "source": [
    "user_num = int(input(\"Please type in a number:)\"))\n",
    "\n",
    "def my_function(user_num):\n",
    "    if user_num < 2 :\n",
    "        return\"Thats one small number!!\"\n",
    "    elif user_num < 10 :\n",
    "        return\"Thats a medium number.\"\n",
    "    elif user_num >= 10 :\n",
    "        return\"Thats one large number!\"\n",
    "print(my_function(user_num))"
   ]
  },
  {
   "cell_type": "markdown",
   "metadata": {},
   "source": [
    "Import the math module. Call its sqrt function on the number 13689 and print that value to the console."
   ]
  },
  {
   "cell_type": "code",
   "execution_count": null,
   "metadata": {},
   "outputs": [],
   "source": []
  },
  {
   "cell_type": "markdown",
   "metadata": {},
   "source": [
    "Write a function to prompt the user for hours and rate per hour to compute gross pay. The data should be:\n",
    "```\n",
    "Enter Hours: 35\n",
    "Enter Rate: 2.75\n",
    "Pay: 96.25\n",
    "```"
   ]
  },
  {
   "cell_type": "code",
   "execution_count": null,
   "metadata": {},
   "outputs": [],
   "source": []
  },
  {
   "cell_type": "markdown",
   "metadata": {},
   "source": [
    "### Shutdown\n",
    "Write a shutting down program:\n",
    "\n",
    "- First, def a function, shut_down, that takes one argument s.\n",
    "- Then, if the shut_down function receives an s equal to \"yes\", it should return \"Shutting down\" \n",
    "- Alternatively, elif s is equal to \"no\", then the function should return \"Shutdown aborted\". \n",
    "- Finally, if shut_down gets anything other than those inputs, the function should return \"Sorry\"."
   ]
  },
  {
   "cell_type": "code",
   "execution_count": null,
   "metadata": {},
   "outputs": [],
   "source": []
  },
  {
   "cell_type": "markdown",
   "metadata": {},
   "source": [
    "### Greeter\n",
    "Write a function that takes in a person's name, and prints out a greeting.\n",
    "The greeting must be at least three lines, and the person's name must be in each line.\n",
    "Use your function to greet at least three different people."
   ]
  },
  {
   "cell_type": "code",
   "execution_count": null,
   "metadata": {},
   "outputs": [],
   "source": []
  },
  {
   "cell_type": "markdown",
   "metadata": {},
   "source": [
    "Write a Python function to sum all the numbers in a list\n",
    "\n",
    "Remember `while`"
   ]
  },
  {
   "cell_type": "code",
   "execution_count": null,
   "metadata": {},
   "outputs": [],
   "source": []
  }
 ],
 "metadata": {
  "kernelspec": {
   "display_name": "Python 3",
   "language": "python",
   "name": "python3"
  },
  "language_info": {
   "codemirror_mode": {
    "name": "ipython",
    "version": 3
   },
   "file_extension": ".py",
   "mimetype": "text/x-python",
   "name": "python",
   "nbconvert_exporter": "python",
   "pygments_lexer": "ipython3",
   "version": "3.7.3"
  }
 },
 "nbformat": 4,
 "nbformat_minor": 2
}
